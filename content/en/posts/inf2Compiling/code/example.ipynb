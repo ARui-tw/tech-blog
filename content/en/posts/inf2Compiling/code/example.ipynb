{
 "cells": [
  {
   "cell_type": "code",
   "execution_count": 1,
   "id": "4ca5aa53",
   "metadata": {},
   "outputs": [
    {
     "name": "stderr",
     "output_type": "stream",
     "text": [
      "/home/ubuntu/cr_captioning_api/.venv/lib/python3.10/site-packages/tqdm/auto.py:21: TqdmWarning: IProgress not found. Please update jupyter and ipywidgets. See https://ipywidgets.readthedocs.io/en/stable/user_install.html\n",
      "  from .autonotebook import tqdm as notebook_tqdm\n"
     ]
    }
   ],
   "source": [
    "from neuron_padded_generation import NeuronBlipForQuestionAnswering, TextEncoderWrapper, VisionModelWrapper, DecoderPaddedGenerator\n",
    "from transformers import BlipForQuestionAnswering , BlipProcessor\n",
    "import torch\n",
    "from PIL import Image\n",
    "import os\n",
    "\n",
    "# import numpy as np\n",
    "# from io import BytesIO\n",
    "import requests\n",
    "\n",
    "import torch_neuronx"
   ]
  },
  {
   "cell_type": "code",
   "execution_count": 2,
   "id": "6e948f0b",
   "metadata": {},
   "outputs": [],
   "source": [
    "NEURON_MODEL = \"neuron_models\"\n",
    "LOG_DIR = \"logs\"\n",
    "max_decoder_length = 8                  # Maximum output token length"
   ]
  },
  {
   "cell_type": "code",
   "execution_count": 3,
   "id": "3750aba6",
   "metadata": {},
   "outputs": [],
   "source": [
    "def trace(model, directory, compiler_args=f\"--auto-cast-type fp16 --logfile {LOG_DIR}/log-neuron-cc.txt\"):\n",
    "    if os.path.isfile(directory):\n",
    "        print(f\"Provided path ({directory}) should be a directory, not a file\")\n",
    "        return\n",
    "\n",
    "    os.makedirs(directory, exist_ok=True)\n",
    "    os.makedirs(LOG_DIR, exist_ok=True)\n",
    "\n",
    "    # skip trace if the model is already traced\n",
    "    if not os.path.isfile(os.path.join(directory, 'text_decoder.pt')):\n",
    "        print(\"Tracing text_decoder\")\n",
    "        inputs = (\n",
    "            torch.ones((1, 20), dtype=torch.int64),\n",
    "            torch.ones((1, 8, 768), dtype=torch.float32),\n",
    "            torch.ones((1, 8), dtype=torch.int64),\n",
    "            torch.ones((1, 20), dtype=torch.int64),\n",
    "            torch.tensor([3]),\n",
    "        )\n",
    "\n",
    "        decoder = torch_neuronx.trace(model.text_decoder.decoder.decoder, inputs, compiler_args=compiler_args)\n",
    "        torch.jit.save(decoder, os.path.join(directory, 'text_decoder.pt'))\n",
    "    else:\n",
    "        print('Skipping text_decoder.pt')\n",
    "\n",
    "    if not os.path.isfile(os.path.join(directory, 'vision_model.pt')):\n",
    "        print(\"Tracing vision_model\")\n",
    "        inputs = (\n",
    "            torch.ones((1, 3, 384, 384), dtype=torch.float32)\n",
    "        )\n",
    "\n",
    "        vision = torch_neuronx.trace(model.vision_model.model, inputs, compiler_args=compiler_args)\n",
    "        torch.jit.save(vision, os.path.join(directory, 'vision_model.pt'))\n",
    "    else:\n",
    "        print('Skipping vision_model.pt')\n",
    "\n",
    "    if not os.path.isfile(os.path.join(directory, 'text_encoder.pt')):\n",
    "        print(\"Tracing text_encoder\")\n",
    "        inputs = (\n",
    "            torch.ones((1, 8), dtype=torch.int64),\n",
    "            torch.ones((1, 8), dtype=torch.int64),\n",
    "            torch.ones((1, 577, 768), dtype=torch.float32),\n",
    "            torch.ones((1, 577), dtype=torch.int64),\n",
    "        )\n",
    "\n",
    "        encoder = torch_neuronx.trace(model.text_encoder.model, inputs, compiler_args=compiler_args)\n",
    "        torch.jit.save(encoder, os.path.join(directory, 'text_encoder.pt'))\n",
    "    else:\n",
    "        print('Skipping text_encoder.pt')\n",
    "\n",
    "    traced_model = NeuronBlipForQuestionAnswering.from_pretrained(directory, 1)[0]\n",
    "\n",
    "    return traced_model\n"
   ]
  },
  {
   "cell_type": "code",
   "execution_count": 4,
   "id": "eda806c3",
   "metadata": {},
   "outputs": [],
   "source": [
    "def infer(model, processor, text, image):\n",
    "    # Truncate and pad the max length to ensure that the token size is compatible with fixed-sized encoder (Not necessary for pure CPU execution)\n",
    "    input =  processor(image, text, max_length=max_decoder_length, truncation=True, padding='max_length', return_tensors=\"pt\")\n",
    "    output = model.generate(**input, max_length=max_decoder_length)\n",
    "    results = processor.decode(output[0], skip_special_tokens=True)\n",
    "    print(results)"
   ]
  },
  {
   "cell_type": "code",
   "execution_count": 5,
   "id": "a27033e5",
   "metadata": {},
   "outputs": [
    {
     "name": "stdout",
     "output_type": "stream",
     "text": [
      "Default CPU Results:\n",
      "couch\n",
      "\n",
      "Padded CPU Results:\n",
      "couch\n",
      "\n",
      "Tracing text_decoder\n",
      "....\n",
      "Compiler status PASS\n",
      "Tracing vision_model\n",
      "...\n",
      "Compiler status PASS\n",
      "Tracing text_encoder\n",
      "...\n",
      "Compiler status PASS\n",
      "Traced Results:\n",
      "couch\n",
      "\n",
      "Complete!\n"
     ]
    }
   ],
   "source": [
    "url = \"http://images.cocodataset.org/val2017/000000039769.jpg\"\n",
    "image = Image.open(requests.get(url, stream=True).raw)\n",
    "\n",
    "text = \"Where is the pet?\"\n",
    "\n",
    "processor = BlipProcessor.from_pretrained(\"Salesforce/blip-vqa-base\")\n",
    "model_cpu = BlipForQuestionAnswering.from_pretrained(\"Salesforce/blip-vqa-base\")\n",
    "model_cpu.save_pretrained(NEURON_MODEL)\n",
    "processor.save_pretrained(NEURON_MODEL)\n",
    "model_cpu.config.max_length = max_decoder_length\n",
    "model_cpu.eval()\n",
    "text_decoder_max_length = model_cpu.text_decoder.config.max_length\n",
    "\n",
    "print('Default CPU Results:')\n",
    "infer(model_cpu, processor, text, image)\n",
    "print()\n",
    "\n",
    "model_padded = BlipForQuestionAnswering.from_pretrained(\"Salesforce/blip-vqa-base\")\n",
    "model_padded.text_encoder = TextEncoderWrapper(model_padded.text_encoder)\n",
    "model_padded.vision_model = VisionModelWrapper(model_padded.vision_model)\n",
    "model_padded.text_decoder = DecoderPaddedGenerator.from_model(model_padded.text_decoder)\n",
    "\n",
    "model_padded.config.max_length = max_decoder_length\n",
    "model_padded.eval()\n",
    "\n",
    "print('Padded CPU Results:')\n",
    "infer(model_padded, processor, text, image)\n",
    "print()\n",
    "\n",
    "traced_model = trace(model_padded, NEURON_MODEL)\n",
    "traced_model.config.max_length = max_decoder_length\n",
    "traced_model.text_decoder.config.max_length = text_decoder_max_length\n",
    "print('Traced Results:')\n",
    "infer(traced_model, processor, text, image)\n",
    "print()\n",
    "\n",
    "print(\"Complete!\")\n"
   ]
  },
  {
   "cell_type": "code",
   "execution_count": null,
   "id": "6e48a7d9",
   "metadata": {},
   "outputs": [],
   "source": []
  }
 ],
 "metadata": {
  "kernelspec": {
   "display_name": ".venv",
   "language": "python",
   "name": "python3"
  },
  "language_info": {
   "codemirror_mode": {
    "name": "ipython",
    "version": 3
   },
   "file_extension": ".py",
   "mimetype": "text/x-python",
   "name": "python",
   "nbconvert_exporter": "python",
   "pygments_lexer": "ipython3",
   "version": "3.10.12"
  }
 },
 "nbformat": 4,
 "nbformat_minor": 5
}
